{
 "cells": [
  {
   "cell_type": "markdown",
   "metadata": {},
   "source": [
    "## CHALLENGE - MARKETING CAMPAIGN OF A PORTUGUESE BANK\n",
    "Based on the guided challenge conducted in the latest academic sessions at thePower D&A"
   ]
  },
  {
   "cell_type": "markdown",
   "metadata": {},
   "source": [
    "## 1. Stack Data & Analyst \n",
    "- Python\n",
    "- Numpy\n",
    "- Pandas\n",
    "- Matplotlib\n",
    "- Seaborn\n",
    "- Plotly\n",
    "\n",
    "## 2. Purpose of the Challenge\n",
    "The purpose of this challenge is to put into practice the knowledge of:\n",
    "- Exploratory Data Analysis (EDA)\n",
    "- Data cleaning\n",
    "- Handling missing data\n",
    "- Data visualization\n",
    "- Justifying conclusions based on the proposed case\n",
    "\n",
    "## 3. Context of the Case, Purpose, and Datasets\n",
    "We are provided with data extracted from marketing campaigns of a Portuguese banking institution. These campaigns were based on telephone calls, often requiring multiple contacts with the same client to determine if the term deposit product would be subscribed or not.\n",
    "\n",
    "After analyzing the datasets, the goal is to answer: Has this campaign been effective in gaining subscriptions to financial products from the banking institution?\n",
    "\n",
    "Two datasets are provided:\n",
    "\n",
    "### First Dataset ('bank-additional.csv')\n",
    "Columns include:\n",
    "- **age**: Client's age.\n",
    "- **job**: Client's occupation or profession.\n",
    "- **marital**: Client's marital status.\n",
    "- **education**: Client's educational level.\n",
    "- **default**: Indicates if the client has a history of credit default (1: Yes, 0: No).\n",
    "- **housing**: Indicates if the client has a housing loan (1: Yes, 0: No).\n",
    "- **loan**: Indicates if the client has any other loan (1: Yes, 0: No).\n",
    "- **contact**: Method of contact used to communicate with the client.\n",
    "- **duration**: Duration in seconds of the last interaction with the client.\n",
    "- **campaign**: Number of contacts made during this campaign for this client.\n",
    "- **pdays**: Number of days that have passed since the last contact with the client during this campaign.\n",
    "- **previous**: Number of times the client was contacted before this campaign.\n",
    "- **poutcome**: Outcome of the previous marketing campaign.\n",
    "- **emp.var.rate**: Employment variation rate.\n",
    "- **cons.price.idx**: Consumer price index.\n",
    "- **cons.conf.idx**: Consumer confidence index.\n",
    "- **euribor3m**: Three-month Euribor interest rate.\n",
    "- **nr.employed**: Number of employees.\n",
    "- **y**: Indicates if the client has subscribed to a product or service (Yes/No).\n",
    "- **date**: Date of the interaction with the client.\n",
    "- **contact_month**: Month of the interaction with the client during the marketing campaign.\n",
    "- **contact_year**: Year of the interaction with the client during the marketing campaign.\n",
    "- **id_**: Unique identifier for each record in the dataset.\n",
    "\n",
    "### Second Dataset ('customer-details.xlsx')\n",
    "This Excel provides information on demographic characteristics and buying behavior of bank clients. It consists of three different worksheets, each containing clients who entered the bank in different years.\n",
    "Columns include:\n",
    "- **Income**: Annual income of the client in monetary terms.\n",
    "- **Kidhome**: Number of children in the client's household.\n",
    "- **Teenhome**: Number of teenagers in the client's household.\n",
    "- **Dt_Customer**: Date when the client became a customer of the company.\n",
    "- **NumWebVisitsMonth**: Number of monthly visits by the client to the company's website.\n",
    "- **ID**: Unique identifier of the client."
   ]
  }
 ],
 "metadata": {
  "kernelspec": {
   "display_name": "Python 3",
   "language": "python",
   "name": "python3"
  },
  "language_info": {
   "codemirror_mode": {
    "name": "ipython",
    "version": 3
   },
   "file_extension": ".py",
   "mimetype": "text/x-python",
   "name": "python",
   "nbconvert_exporter": "python",
   "pygments_lexer": "ipython3",
   "version": "3.12.2"
  }
 },
 "nbformat": 4,
 "nbformat_minor": 2
}
