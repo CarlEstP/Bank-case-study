{
 "cells": [
  {
   "cell_type": "markdown",
   "metadata": {},
   "source": [
    "## RETO - CAMPAÑA DE MARKETING DE UN BANCO PORTUGUÉS\n",
    "# Basado en el reto guiado impartido de las últimas formaciones académicas en thePower D&A"
   ]
  },
  {
   "cell_type": "markdown",
   "metadata": {},
   "source": [
    "## 1. Stack Data & Analyst \n",
    "- Python\n",
    "- Numpy\n",
    "- Pandas\n",
    "- Matplotlib\n",
    "- Seaborn\n",
    "- Plotly\n",
    "\n",
    "## 2. Propósito del reto\n",
    "El propósito de este reto es poner en práctica los conocimientos de:\n",
    "- EDA: análisis exploratorio de los datos\n",
    "- Limpieza de datos\n",
    "- Gestión de nulos\n",
    "- Visualización de datos\n",
    "- Justificar las conclusiones del caso propuesto\n",
    "\n",
    "## 3. Contexto del caso, finalidad y datasets\n",
    "Se proporciona unas fuentes de datos extraídas de unas campañas de *marketing* de una institución bancaria portuguesa. Las campañas de marketing se basaron en llamadas telefónicas. A menudo, se requería más de un contacto con el mismo cliente para determinar si el producto (depósito a plazo bancario) sería suscrito o no.\n",
    "\n",
    "Tras analizar los datasets, habría que ser capaz de responder: ¿ Ha sido esta campaña eficaz para ganar suscripciones en productos finacieros de la entidad bancaia ? \n",
    "\n",
    "Para ello se nos proporcionan dos datasets.\n",
    "\n",
    "Las colummas que tenemos en el primer *dataset* ('bank-additional.csv') son: \n",
    "- **age**: La edad del cliente.\n",
    "- **job**: La ocupación o profesión del cliente.\n",
    "- **marital**: El estado civil del cliente.\n",
    "- **education**: El nivel educativo del cliente.\n",
    "- **default**: Indica si el cliente tiene algún historial de incumplimiento de pagos (1: Sí, 0: No).\n",
    "- **housing**: Indica si el cliente tiene un préstamo hipotecario (1: Sí, 0: No).\n",
    "- **loan**: Indica si el cliente tiene algún otro tipo de préstamo (1: Sí, 0: No).\n",
    "- **contact**: El método de contacto utilizado para comunicarse con el cliente.\n",
    "- **duration**: La duración en segundos de la última interacción con el cliente.\n",
    "- **campaign**: El número de contactos realizados durante esta campaña para este cliente.\n",
    "- **pdays**: Número de días que han pasado desde la última vez que se contactó con el cliente durante esta campaña.\n",
    "- **previous**: Número de veces que se ha contactado con el cliente antes de esta campaña.\n",
    "- **poutcome**: Resultado de la campaña de marketing anterior.\n",
    "- **emp.var.rate**: La tasa de variación del empleo.\n",
    "- **cons.price.idx**: El índice de precios al consumidor.\n",
    "- **cons.conf.idx**: El índice de confianza del consumidor.\n",
    "- **euribor3m**: La tasa de interés de referencia a tres meses.\n",
    "- **nr.employed**: El número de empleados.\n",
    "- **y**: Indica si el cliente ha suscrito un producto o servicio (Sí/No).\n",
    "- **date**: La fecha en la que se realizó la interacción con el cliente.\n",
    "- **contact_month**: Mes en el que se realizó la interacción con el cliente durante la campaña de marketing.\n",
    "- **contact_year**: Año en el que se realizó la interacción con el cliente durante la campaña de marketing.\n",
    "- **id_**: Un identificador único para cada registro en el dataset.\n",
    "\n",
    "Además, se proporciona un excel que nos da información sobre las características demográficas y comportamiento de compra de los clientes del banco. Este excel consta de tres hojas de trabajo diferentes, y en cada una de ellas tenemos los clientes que entraron en el banco en diferentes años.\n",
    "Las colummas que tenemos en el segundo *dataset* ('customer-details.xlsx') son: \n",
    "- **Income**: Representa el ingreso anual del cliente en términos monetarios.\n",
    "- **Kidhome**: Indica el número de niños en el hogar del cliente.\n",
    "- **Teenhome**: Indica el número de adolescentes en el hogar del cliente.\n",
    "- **Dt_Customer**: Representa la fecha en que el cliente se convirtió en cliente de la empresa.\n",
    "- **NumWebVisitsMonth**: Indica la cantidad de visitas mensuales del cliente al sitio web de la empresa.\n",
    "- **ID**: Identificador único del cliente."
   ]
  }
 ],
 "metadata": {
  "kernelspec": {
   "display_name": "Python 3",
   "language": "python",
   "name": "python3"
  },
  "language_info": {
   "codemirror_mode": {
    "name": "ipython",
    "version": 3
   },
   "file_extension": ".py",
   "mimetype": "text/x-python",
   "name": "python",
   "nbconvert_exporter": "python",
   "pygments_lexer": "ipython3",
   "version": "3.12.2"
  }
 },
 "nbformat": 4,
 "nbformat_minor": 2
}
